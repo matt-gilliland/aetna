{
 "cells": [
  {
   "cell_type": "markdown",
   "metadata": {
    "id": "9yK8CsV4YvYx"
   },
   "source": [
    "## **Importing libraries**"
   ]
  },
  {
   "cell_type": "code",
   "execution_count": 1,
   "metadata": {
    "executionInfo": {
     "elapsed": 375,
     "status": "ok",
     "timestamp": 1672903930189,
     "user": {
      "displayName": "Alishba NXB",
      "userId": "11371197343773171612"
     },
     "user_tz": -300
    },
    "id": "MAjE2NXW0z0m"
   },
   "outputs": [],
   "source": [
    "import pandas as pd\n",
    "import seaborn as sns\n",
    "import matplotlib.pyplot as plt\n",
    "import plotly.express as px\n",
    "from tabulate import tabulate\n",
    "from six import StringIO\n",
    "import missingno as msno"
   ]
  },
  {
   "cell_type": "markdown",
   "metadata": {
    "id": "kzXTbDBEYzUS"
   },
   "source": [
    "## **Loading dataset**"
   ]
  },
  {
   "cell_type": "code",
   "execution_count": 4,
   "metadata": {
    "colab": {
     "base_uri": "https://localhost:8080/",
     "height": 270
    },
    "executionInfo": {
     "elapsed": 509,
     "status": "ok",
     "timestamp": 1672903931287,
     "user": {
      "displayName": "Alishba NXB",
      "userId": "11371197343773171612"
     },
     "user_tz": -300
    },
    "id": "QkBq-23p04Ud",
    "outputId": "b90ac7e2-209b-40a9-8cb3-8daf99759661"
   },
   "outputs": [
    {
     "data": {
      "text/html": [
       "<div>\n",
       "<style scoped>\n",
       "    .dataframe tbody tr th:only-of-type {\n",
       "        vertical-align: middle;\n",
       "    }\n",
       "\n",
       "    .dataframe tbody tr th {\n",
       "        vertical-align: top;\n",
       "    }\n",
       "\n",
       "    .dataframe thead th {\n",
       "        text-align: right;\n",
       "    }\n",
       "</style>\n",
       "<table border=\"1\" class=\"dataframe\">\n",
       "  <thead>\n",
       "    <tr style=\"text-align: right;\">\n",
       "      <th></th>\n",
       "      <th>id</th>\n",
       "      <th>Gender</th>\n",
       "      <th>Age</th>\n",
       "      <th>Marital Status</th>\n",
       "      <th>Region_Code</th>\n",
       "      <th>Previously_Insured</th>\n",
       "      <th>Time_Since_Last_Dental_Checkup</th>\n",
       "      <th>Previous_Major_Dental_Procedure</th>\n",
       "      <th>Annual_Premium</th>\n",
       "      <th>Policy_Sales_Channel</th>\n",
       "      <th>Vintage</th>\n",
       "      <th>Response</th>\n",
       "    </tr>\n",
       "  </thead>\n",
       "  <tbody>\n",
       "    <tr>\n",
       "      <th>0</th>\n",
       "      <td>1</td>\n",
       "      <td>Male</td>\n",
       "      <td>44</td>\n",
       "      <td>1</td>\n",
       "      <td>28</td>\n",
       "      <td>0</td>\n",
       "      <td>&gt; 2 Years</td>\n",
       "      <td>Yes</td>\n",
       "      <td>40454</td>\n",
       "      <td>26</td>\n",
       "      <td>217</td>\n",
       "      <td>1</td>\n",
       "    </tr>\n",
       "    <tr>\n",
       "      <th>1</th>\n",
       "      <td>2</td>\n",
       "      <td>Male</td>\n",
       "      <td>76</td>\n",
       "      <td>1</td>\n",
       "      <td>3</td>\n",
       "      <td>0</td>\n",
       "      <td>1-2 Year</td>\n",
       "      <td>No</td>\n",
       "      <td>33536</td>\n",
       "      <td>26</td>\n",
       "      <td>183</td>\n",
       "      <td>0</td>\n",
       "    </tr>\n",
       "    <tr>\n",
       "      <th>2</th>\n",
       "      <td>3</td>\n",
       "      <td>Male</td>\n",
       "      <td>47</td>\n",
       "      <td>1</td>\n",
       "      <td>28</td>\n",
       "      <td>0</td>\n",
       "      <td>&gt; 2 Years</td>\n",
       "      <td>Yes</td>\n",
       "      <td>38294</td>\n",
       "      <td>26</td>\n",
       "      <td>27</td>\n",
       "      <td>1</td>\n",
       "    </tr>\n",
       "    <tr>\n",
       "      <th>3</th>\n",
       "      <td>4</td>\n",
       "      <td>Male</td>\n",
       "      <td>21</td>\n",
       "      <td>1</td>\n",
       "      <td>11</td>\n",
       "      <td>1</td>\n",
       "      <td>&lt; 1 Year</td>\n",
       "      <td>No</td>\n",
       "      <td>28619</td>\n",
       "      <td>152</td>\n",
       "      <td>203</td>\n",
       "      <td>0</td>\n",
       "    </tr>\n",
       "    <tr>\n",
       "      <th>4</th>\n",
       "      <td>5</td>\n",
       "      <td>Female</td>\n",
       "      <td>29</td>\n",
       "      <td>1</td>\n",
       "      <td>41</td>\n",
       "      <td>1</td>\n",
       "      <td>&lt; 1 Year</td>\n",
       "      <td>No</td>\n",
       "      <td>27496</td>\n",
       "      <td>152</td>\n",
       "      <td>39</td>\n",
       "      <td>0</td>\n",
       "    </tr>\n",
       "  </tbody>\n",
       "</table>\n",
       "</div>"
      ],
      "text/plain": [
       "   id  Gender  Age  Marital Status  Region_Code  Previously_Insured  \\\n",
       "0   1    Male   44               1           28                   0   \n",
       "1   2    Male   76               1            3                   0   \n",
       "2   3    Male   47               1           28                   0   \n",
       "3   4    Male   21               1           11                   1   \n",
       "4   5  Female   29               1           41                   1   \n",
       "\n",
       "  Time_Since_Last_Dental_Checkup Previous_Major_Dental_Procedure  \\\n",
       "0                      > 2 Years                             Yes   \n",
       "1                       1-2 Year                              No   \n",
       "2                      > 2 Years                             Yes   \n",
       "3                       < 1 Year                              No   \n",
       "4                       < 1 Year                              No   \n",
       "\n",
       "   Annual_Premium  Policy_Sales_Channel  Vintage  Response  \n",
       "0           40454                    26      217         1  \n",
       "1           33536                    26      183         0  \n",
       "2           38294                    26       27         1  \n",
       "3           28619                   152      203         0  \n",
       "4           27496                   152       39         0  "
      ]
     },
     "execution_count": 4,
     "metadata": {},
     "output_type": "execute_result"
    }
   ],
   "source": [
    "dataset = pd.read_csv(\"aetna.csv\")\n",
    "dataset.head()"
   ]
  },
  {
   "cell_type": "markdown",
   "metadata": {
    "id": "fwy7Zv9BrWV2"
   },
   "source": [
    "**Dataset transformation**"
   ]
  },
  {
   "cell_type": "code",
   "execution_count": 5,
   "metadata": {
    "executionInfo": {
     "elapsed": 19,
     "status": "ok",
     "timestamp": 1672905026508,
     "user": {
      "displayName": "Alishba NXB",
      "userId": "11371197343773171612"
     },
     "user_tz": -300
    },
    "id": "JJjZzKsCrNxd"
   },
   "outputs": [],
   "source": [
    "from sklearn.preprocessing import LabelEncoder\n",
    "encoder = LabelEncoder()"
   ]
  },
  {
   "cell_type": "code",
   "execution_count": 6,
   "metadata": {
    "executionInfo": {
     "elapsed": 17,
     "status": "ok",
     "timestamp": 1672905026508,
     "user": {
      "displayName": "Alishba NXB",
      "userId": "11371197343773171612"
     },
     "user_tz": -300
    },
    "id": "EjFI9fF6rP1-"
   },
   "outputs": [],
   "source": [
    "# Encoding Categorical Labels\n",
    "dataset['Gender'] = encoder.fit_transform(dataset['Gender'])\n",
    "dataset['Time_Since_Last_Dental_Checkup'] = encoder.fit_transform(dataset['Time_Since_Last_Dental_Checkup'])\n",
    "dataset['Previous_Major_Dental_Procedure'] = encoder.fit_transform(dataset['Previous_Major_Dental_Procedure'])"
   ]
  },
  {
   "cell_type": "code",
   "execution_count": 7,
   "metadata": {
    "colab": {
     "base_uri": "https://localhost:8080/",
     "height": 241
    },
    "executionInfo": {
     "elapsed": 28,
     "status": "ok",
     "timestamp": 1672905028073,
     "user": {
      "displayName": "Alishba NXB",
      "userId": "11371197343773171612"
     },
     "user_tz": -300
    },
    "id": "cLlIo_cDtNBw",
    "outputId": "3fd7b099-0c42-4348-af67-ba8166fdbfa5"
   },
   "outputs": [
    {
     "name": "stdout",
     "output_type": "stream",
     "text": [
      "Based on co-relation, the attributes [ID, Previously_Insured] will be dropped\n",
      "-------------------------------------------------------------------------------\n"
     ]
    },
    {
     "data": {
      "text/html": [
       "<div>\n",
       "<style scoped>\n",
       "    .dataframe tbody tr th:only-of-type {\n",
       "        vertical-align: middle;\n",
       "    }\n",
       "\n",
       "    .dataframe tbody tr th {\n",
       "        vertical-align: top;\n",
       "    }\n",
       "\n",
       "    .dataframe thead th {\n",
       "        text-align: right;\n",
       "    }\n",
       "</style>\n",
       "<table border=\"1\" class=\"dataframe\">\n",
       "  <thead>\n",
       "    <tr style=\"text-align: right;\">\n",
       "      <th></th>\n",
       "      <th>Gender</th>\n",
       "      <th>Age</th>\n",
       "      <th>Marital Status</th>\n",
       "      <th>Region_Code</th>\n",
       "      <th>Time_Since_Last_Dental_Checkup</th>\n",
       "      <th>Previous_Major_Dental_Procedure</th>\n",
       "      <th>Annual_Premium</th>\n",
       "      <th>Policy_Sales_Channel</th>\n",
       "      <th>Vintage</th>\n",
       "      <th>Response</th>\n",
       "    </tr>\n",
       "  </thead>\n",
       "  <tbody>\n",
       "    <tr>\n",
       "      <th>0</th>\n",
       "      <td>1</td>\n",
       "      <td>44</td>\n",
       "      <td>1</td>\n",
       "      <td>28</td>\n",
       "      <td>2</td>\n",
       "      <td>1</td>\n",
       "      <td>40454</td>\n",
       "      <td>26</td>\n",
       "      <td>217</td>\n",
       "      <td>1</td>\n",
       "    </tr>\n",
       "    <tr>\n",
       "      <th>1</th>\n",
       "      <td>1</td>\n",
       "      <td>76</td>\n",
       "      <td>1</td>\n",
       "      <td>3</td>\n",
       "      <td>0</td>\n",
       "      <td>0</td>\n",
       "      <td>33536</td>\n",
       "      <td>26</td>\n",
       "      <td>183</td>\n",
       "      <td>0</td>\n",
       "    </tr>\n",
       "    <tr>\n",
       "      <th>2</th>\n",
       "      <td>1</td>\n",
       "      <td>47</td>\n",
       "      <td>1</td>\n",
       "      <td>28</td>\n",
       "      <td>2</td>\n",
       "      <td>1</td>\n",
       "      <td>38294</td>\n",
       "      <td>26</td>\n",
       "      <td>27</td>\n",
       "      <td>1</td>\n",
       "    </tr>\n",
       "    <tr>\n",
       "      <th>3</th>\n",
       "      <td>1</td>\n",
       "      <td>21</td>\n",
       "      <td>1</td>\n",
       "      <td>11</td>\n",
       "      <td>1</td>\n",
       "      <td>0</td>\n",
       "      <td>28619</td>\n",
       "      <td>152</td>\n",
       "      <td>203</td>\n",
       "      <td>0</td>\n",
       "    </tr>\n",
       "    <tr>\n",
       "      <th>4</th>\n",
       "      <td>0</td>\n",
       "      <td>29</td>\n",
       "      <td>1</td>\n",
       "      <td>41</td>\n",
       "      <td>1</td>\n",
       "      <td>0</td>\n",
       "      <td>27496</td>\n",
       "      <td>152</td>\n",
       "      <td>39</td>\n",
       "      <td>0</td>\n",
       "    </tr>\n",
       "  </tbody>\n",
       "</table>\n",
       "</div>"
      ],
      "text/plain": [
       "   Gender  Age  Marital Status  Region_Code  Time_Since_Last_Dental_Checkup  \\\n",
       "0       1   44               1           28                               2   \n",
       "1       1   76               1            3                               0   \n",
       "2       1   47               1           28                               2   \n",
       "3       1   21               1           11                               1   \n",
       "4       0   29               1           41                               1   \n",
       "\n",
       "   Previous_Major_Dental_Procedure  Annual_Premium  Policy_Sales_Channel  \\\n",
       "0                                1           40454                    26   \n",
       "1                                0           33536                    26   \n",
       "2                                1           38294                    26   \n",
       "3                                0           28619                   152   \n",
       "4                                0           27496                   152   \n",
       "\n",
       "   Vintage  Response  \n",
       "0      217         1  \n",
       "1      183         0  \n",
       "2       27         1  \n",
       "3      203         0  \n",
       "4       39         0  "
      ]
     },
     "execution_count": 7,
     "metadata": {},
     "output_type": "execute_result"
    }
   ],
   "source": [
    "print(\"Based on co-relation, the attributes [ID, Previously_Insured] will be dropped\")\n",
    "print(\"-------------------------------------------------------------------------------\")\n",
    "final_dataset=dataset.drop(labels=[\"id\", \"Previously_Insured\"],axis=1)\n",
    "final_dataset.head()\n",
    "# Tegan, why would we drop Previously_Insured here?"
   ]
  },
  {
   "cell_type": "markdown",
   "metadata": {
    "id": "wTWgsgeut4UI"
   },
   "source": [
    "**Dataset class balancing - SMOTE**"
   ]
  },
  {
   "cell_type": "code",
   "execution_count": 8,
   "metadata": {
    "executionInfo": {
     "elapsed": 423,
     "status": "ok",
     "timestamp": 1672905028483,
     "user": {
      "displayName": "Alishba NXB",
      "userId": "11371197343773171612"
     },
     "user_tz": -300
    },
    "id": "gokKZfZ5t7lh"
   },
   "outputs": [],
   "source": [
    "X= final_dataset.drop(['Response'],axis=1)\n",
    "y= final_dataset['Response']"
   ]
  },
  {
   "cell_type": "code",
   "execution_count": 9,
   "metadata": {
    "executionInfo": {
     "elapsed": 475,
     "status": "ok",
     "timestamp": 1672905028953,
     "user": {
      "displayName": "Alishba NXB",
      "userId": "11371197343773171612"
     },
     "user_tz": -300
    },
    "id": "5j5Ekrq4uDSA"
   },
   "outputs": [],
   "source": [
    "from imblearn.over_sampling import SMOTE\n",
    "smote = SMOTE(random_state=33)\n",
    "X_smote, y_smote = smote.fit_resample(X, y)"
   ]
  },
  {
   "cell_type": "code",
   "execution_count": 10,
   "metadata": {
    "colab": {
     "base_uri": "https://localhost:8080/"
    },
    "executionInfo": {
     "elapsed": 19,
     "status": "ok",
     "timestamp": 1672905028954,
     "user": {
      "displayName": "Alishba NXB",
      "userId": "11371197343773171612"
     },
     "user_tz": -300
    },
    "id": "REnm7RahuDUd",
    "outputId": "137d7ac4-1701-424d-a1d2-80f091e00d95"
   },
   "outputs": [
    {
     "name": "stdout",
     "output_type": "stream",
     "text": [
      "Shape of Dataset after SMOTE :  (668798, 9) (668798,)\n"
     ]
    }
   ],
   "source": [
    "print(\"Shape of Dataset after SMOTE : \", X_smote.shape,y_smote.shape)"
   ]
  },
  {
   "cell_type": "code",
   "execution_count": 11,
   "metadata": {
    "colab": {
     "base_uri": "https://localhost:8080/",
     "height": 206
    },
    "executionInfo": {
     "elapsed": 17,
     "status": "ok",
     "timestamp": 1672905028955,
     "user": {
      "displayName": "Alishba NXB",
      "userId": "11371197343773171612"
     },
     "user_tz": -300
    },
    "id": "1NTsF7PGuDYE",
    "outputId": "3276e967-3c33-4990-fef0-16f9457be77b"
   },
   "outputs": [
    {
     "data": {
      "text/html": [
       "<div>\n",
       "<style scoped>\n",
       "    .dataframe tbody tr th:only-of-type {\n",
       "        vertical-align: middle;\n",
       "    }\n",
       "\n",
       "    .dataframe tbody tr th {\n",
       "        vertical-align: top;\n",
       "    }\n",
       "\n",
       "    .dataframe thead th {\n",
       "        text-align: right;\n",
       "    }\n",
       "</style>\n",
       "<table border=\"1\" class=\"dataframe\">\n",
       "  <thead>\n",
       "    <tr style=\"text-align: right;\">\n",
       "      <th></th>\n",
       "      <th>Response</th>\n",
       "    </tr>\n",
       "  </thead>\n",
       "  <tbody>\n",
       "    <tr>\n",
       "      <th>0</th>\n",
       "      <td>1</td>\n",
       "    </tr>\n",
       "    <tr>\n",
       "      <th>1</th>\n",
       "      <td>0</td>\n",
       "    </tr>\n",
       "    <tr>\n",
       "      <th>2</th>\n",
       "      <td>1</td>\n",
       "    </tr>\n",
       "    <tr>\n",
       "      <th>3</th>\n",
       "      <td>0</td>\n",
       "    </tr>\n",
       "    <tr>\n",
       "      <th>4</th>\n",
       "      <td>0</td>\n",
       "    </tr>\n",
       "  </tbody>\n",
       "</table>\n",
       "</div>"
      ],
      "text/plain": [
       "   Response\n",
       "0         1\n",
       "1         0\n",
       "2         1\n",
       "3         0\n",
       "4         0"
      ]
     },
     "execution_count": 11,
     "metadata": {},
     "output_type": "execute_result"
    }
   ],
   "source": [
    "ch = pd.DataFrame(y_smote)\n",
    "ch.head()"
   ]
  },
  {
   "cell_type": "code",
   "execution_count": 12,
   "metadata": {
    "executionInfo": {
     "elapsed": 15,
     "status": "ok",
     "timestamp": 1672905029503,
     "user": {
      "displayName": "Alishba NXB",
      "userId": "11371197343773171612"
     },
     "user_tz": -300
    },
    "id": "YwRZ1vCguKL5"
   },
   "outputs": [],
   "source": [
    "ch_X = pd.DataFrame(X_smote)"
   ]
  },
  {
   "cell_type": "code",
   "execution_count": 13,
   "metadata": {
    "colab": {
     "base_uri": "https://localhost:8080/",
     "height": 206
    },
    "executionInfo": {
     "elapsed": 14,
     "status": "ok",
     "timestamp": 1672905029503,
     "user": {
      "displayName": "Alishba NXB",
      "userId": "11371197343773171612"
     },
     "user_tz": -300
    },
    "id": "uNBEe0HquKNb",
    "outputId": "0c0574f8-651f-4831-a821-167fbbdf9f8b"
   },
   "outputs": [
    {
     "data": {
      "text/html": [
       "<div>\n",
       "<style scoped>\n",
       "    .dataframe tbody tr th:only-of-type {\n",
       "        vertical-align: middle;\n",
       "    }\n",
       "\n",
       "    .dataframe tbody tr th {\n",
       "        vertical-align: top;\n",
       "    }\n",
       "\n",
       "    .dataframe thead th {\n",
       "        text-align: right;\n",
       "    }\n",
       "</style>\n",
       "<table border=\"1\" class=\"dataframe\">\n",
       "  <thead>\n",
       "    <tr style=\"text-align: right;\">\n",
       "      <th></th>\n",
       "      <th>Gender</th>\n",
       "      <th>Age</th>\n",
       "      <th>Marital Status</th>\n",
       "      <th>Region_Code</th>\n",
       "      <th>Time_Since_Last_Dental_Checkup</th>\n",
       "      <th>Previous_Major_Dental_Procedure</th>\n",
       "      <th>Annual_Premium</th>\n",
       "      <th>Policy_Sales_Channel</th>\n",
       "      <th>Vintage</th>\n",
       "      <th>Response</th>\n",
       "    </tr>\n",
       "  </thead>\n",
       "  <tbody>\n",
       "    <tr>\n",
       "      <th>0</th>\n",
       "      <td>1</td>\n",
       "      <td>44</td>\n",
       "      <td>1</td>\n",
       "      <td>28</td>\n",
       "      <td>2</td>\n",
       "      <td>1</td>\n",
       "      <td>40454</td>\n",
       "      <td>26</td>\n",
       "      <td>217</td>\n",
       "      <td>1</td>\n",
       "    </tr>\n",
       "    <tr>\n",
       "      <th>1</th>\n",
       "      <td>1</td>\n",
       "      <td>76</td>\n",
       "      <td>1</td>\n",
       "      <td>3</td>\n",
       "      <td>0</td>\n",
       "      <td>0</td>\n",
       "      <td>33536</td>\n",
       "      <td>26</td>\n",
       "      <td>183</td>\n",
       "      <td>0</td>\n",
       "    </tr>\n",
       "    <tr>\n",
       "      <th>2</th>\n",
       "      <td>1</td>\n",
       "      <td>47</td>\n",
       "      <td>1</td>\n",
       "      <td>28</td>\n",
       "      <td>2</td>\n",
       "      <td>1</td>\n",
       "      <td>38294</td>\n",
       "      <td>26</td>\n",
       "      <td>27</td>\n",
       "      <td>1</td>\n",
       "    </tr>\n",
       "    <tr>\n",
       "      <th>3</th>\n",
       "      <td>1</td>\n",
       "      <td>21</td>\n",
       "      <td>1</td>\n",
       "      <td>11</td>\n",
       "      <td>1</td>\n",
       "      <td>0</td>\n",
       "      <td>28619</td>\n",
       "      <td>152</td>\n",
       "      <td>203</td>\n",
       "      <td>0</td>\n",
       "    </tr>\n",
       "    <tr>\n",
       "      <th>4</th>\n",
       "      <td>0</td>\n",
       "      <td>29</td>\n",
       "      <td>1</td>\n",
       "      <td>41</td>\n",
       "      <td>1</td>\n",
       "      <td>0</td>\n",
       "      <td>27496</td>\n",
       "      <td>152</td>\n",
       "      <td>39</td>\n",
       "      <td>0</td>\n",
       "    </tr>\n",
       "  </tbody>\n",
       "</table>\n",
       "</div>"
      ],
      "text/plain": [
       "   Gender  Age  Marital Status  Region_Code  Time_Since_Last_Dental_Checkup  \\\n",
       "0       1   44               1           28                               2   \n",
       "1       1   76               1            3                               0   \n",
       "2       1   47               1           28                               2   \n",
       "3       1   21               1           11                               1   \n",
       "4       0   29               1           41                               1   \n",
       "\n",
       "   Previous_Major_Dental_Procedure  Annual_Premium  Policy_Sales_Channel  \\\n",
       "0                                1           40454                    26   \n",
       "1                                0           33536                    26   \n",
       "2                                1           38294                    26   \n",
       "3                                0           28619                   152   \n",
       "4                                0           27496                   152   \n",
       "\n",
       "   Vintage  Response  \n",
       "0      217         1  \n",
       "1      183         0  \n",
       "2       27         1  \n",
       "3      203         0  \n",
       "4       39         0  "
      ]
     },
     "execution_count": 13,
     "metadata": {},
     "output_type": "execute_result"
    }
   ],
   "source": [
    "ch_dataset = pd.merge(ch_X,ch,right_index=True, left_index=True)\n",
    "ch_dataset.head(5)"
   ]
  },
  {
   "cell_type": "code",
   "execution_count": 14,
   "metadata": {
    "colab": {
     "base_uri": "https://localhost:8080/"
    },
    "executionInfo": {
     "elapsed": 14,
     "status": "ok",
     "timestamp": 1672905029504,
     "user": {
      "displayName": "Alishba NXB",
      "userId": "11371197343773171612"
     },
     "user_tz": -300
    },
    "id": "wWwNohohuPxS",
    "outputId": "54b037e1-a5b3-4ed3-c3f5-060a78d8ed46"
   },
   "outputs": [
    {
     "name": "stdout",
     "output_type": "stream",
     "text": [
      "Dataset shape after balancing:  (668798, 10)\n"
     ]
    }
   ],
   "source": [
    "print(\"Dataset shape after balancing: \", ch_dataset.shape)"
   ]
  },
  {
   "cell_type": "markdown",
   "metadata": {
    "id": "Nhc-MscCAMrd"
   },
   "source": [
    "**Dataset splitting**"
   ]
  },
  {
   "cell_type": "code",
   "execution_count": 15,
   "metadata": {
    "executionInfo": {
     "elapsed": 10,
     "status": "ok",
     "timestamp": 1672905029504,
     "user": {
      "displayName": "Alishba NXB",
      "userId": "11371197343773171612"
     },
     "user_tz": -300
    },
    "id": "LMWZu7CZAN89"
   },
   "outputs": [],
   "source": [
    "X = ch_dataset.drop([\"Response\"],axis=1)\n",
    "y = ch_dataset[\"Response\"]"
   ]
  },
  {
   "cell_type": "code",
   "execution_count": 16,
   "metadata": {
    "executionInfo": {
     "elapsed": 10,
     "status": "ok",
     "timestamp": 1672905029504,
     "user": {
      "displayName": "Alishba NXB",
      "userId": "11371197343773171612"
     },
     "user_tz": -300
    },
    "id": "asjcNB8KAVc0"
   },
   "outputs": [],
   "source": [
    "from sklearn.model_selection import train_test_split\n",
    "X_train, X_test, y_train, y_test = train_test_split(X, y, test_size=0.3,random_state=42)"
   ]
  },
  {
   "cell_type": "code",
   "execution_count": 17,
   "metadata": {
    "colab": {
     "base_uri": "https://localhost:8080/"
    },
    "executionInfo": {
     "elapsed": 10,
     "status": "ok",
     "timestamp": 1672905029505,
     "user": {
      "displayName": "Alishba NXB",
      "userId": "11371197343773171612"
     },
     "user_tz": -300
    },
    "id": "Oe8HvevWAXU-",
    "outputId": "1162fcdb-96ac-464a-9483-76cea54641c4"
   },
   "outputs": [
    {
     "name": "stdout",
     "output_type": "stream",
     "text": [
      "(468158, 9) (200640, 9)\n",
      "(468158,) (200640,)\n"
     ]
    }
   ],
   "source": [
    "print(X_train.shape, X_test.shape)\n",
    "print(y_train.shape, y_test.shape)"
   ]
  },
  {
   "cell_type": "markdown",
   "metadata": {
    "id": "c49A09gNw8vB"
   },
   "source": [
    "**Model Building - Random Forest**  "
   ]
  },
  {
   "cell_type": "code",
   "execution_count": 18,
   "metadata": {
    "executionInfo": {
     "elapsed": 7,
     "status": "ok",
     "timestamp": 1672905029505,
     "user": {
      "displayName": "Alishba NXB",
      "userId": "11371197343773171612"
     },
     "user_tz": -300
    },
    "id": "GrdXZlJiw-3E"
   },
   "outputs": [],
   "source": [
    "from sklearn.ensemble import RandomForestClassifier\n",
    "model = RandomForestClassifier()"
   ]
  },
  {
   "cell_type": "code",
   "execution_count": 19,
   "metadata": {
    "colab": {
     "base_uri": "https://localhost:8080/"
    },
    "executionInfo": {
     "elapsed": 136853,
     "status": "ok",
     "timestamp": 1672905166351,
     "user": {
      "displayName": "Alishba NXB",
      "userId": "11371197343773171612"
     },
     "user_tz": -300
    },
    "id": "x9vR3eDAxXV_",
    "outputId": "20462e6b-3f3b-4f5c-a9e7-2e67ae082dea"
   },
   "outputs": [
    {
     "data": {
      "text/plain": [
       "RandomForestClassifier()"
      ]
     },
     "execution_count": 19,
     "metadata": {},
     "output_type": "execute_result"
    }
   ],
   "source": [
    "# Train Random Forest Classifer\n",
    "model.fit(X_train,y_train)"
   ]
  },
  {
   "cell_type": "markdown",
   "metadata": {
    "id": "c6r67YFXyMPz"
   },
   "source": [
    "**Model Evaluation - Random Forest**"
   ]
  },
  {
   "cell_type": "code",
   "execution_count": 20,
   "metadata": {
    "executionInfo": {
     "elapsed": 28,
     "status": "ok",
     "timestamp": 1672905166353,
     "user": {
      "displayName": "Alishba NXB",
      "userId": "11371197343773171612"
     },
     "user_tz": -300
    },
    "id": "fTdP6XCtyIBB"
   },
   "outputs": [],
   "source": [
    "from sklearn.metrics import confusion_matrix,classification_report,accuracy_score"
   ]
  },
  {
   "cell_type": "code",
   "execution_count": 21,
   "metadata": {
    "colab": {
     "base_uri": "https://localhost:8080/"
    },
    "executionInfo": {
     "elapsed": 21340,
     "status": "ok",
     "timestamp": 1672905187666,
     "user": {
      "displayName": "Alishba NXB",
      "userId": "11371197343773171612"
     },
     "user_tz": -300
    },
    "id": "P59NK_US1H7l",
    "outputId": "69bc4391-b054-4b8b-9117-2ddd5044f535"
   },
   "outputs": [
    {
     "name": "stdout",
     "output_type": "stream",
     "text": [
      "Train accuracy:  0.9996048342653548\n"
     ]
    }
   ],
   "source": [
    "#Train Accuracy\n",
    "X_train_predict = model.predict(X_train)\n",
    "training_data_accuracy = accuracy_score(X_train_predict, y_train)\n",
    "print(\"Train accuracy: \", training_data_accuracy)"
   ]
  },
  {
   "cell_type": "code",
   "execution_count": 22,
   "metadata": {
    "colab": {
     "base_uri": "https://localhost:8080/"
    },
    "executionInfo": {
     "elapsed": 9030,
     "status": "ok",
     "timestamp": 1672905196667,
     "user": {
      "displayName": "Alishba NXB",
      "userId": "11371197343773171612"
     },
     "user_tz": -300
    },
    "id": "sh1Ne3BKx-bU",
    "outputId": "042e030f-3c3b-4ac4-d0e4-96db843e1d3f"
   },
   "outputs": [
    {
     "name": "stdout",
     "output_type": "stream",
     "text": [
      "Test Accuracy: 0.8625598086124402\n"
     ]
    }
   ],
   "source": [
    "# Test Accuracy\n",
    "y_pred = model.predict(X_test)\n",
    "y=y_test\n",
    "print(\"Test Accuracy:\",accuracy_score(y, y_pred))"
   ]
  },
  {
   "cell_type": "code",
   "execution_count": 23,
   "metadata": {
    "colab": {
     "base_uri": "https://localhost:8080/"
    },
    "executionInfo": {
     "elapsed": 669,
     "status": "ok",
     "timestamp": 1672905197305,
     "user": {
      "displayName": "Alishba NXB",
      "userId": "11371197343773171612"
     },
     "user_tz": -300
    },
    "id": "TIzIt7TgxDX8",
    "outputId": "09c1912d-683e-4f75-80bc-bb73fd98cb60"
   },
   "outputs": [
    {
     "name": "stdout",
     "output_type": "stream",
     "text": [
      "\n",
      " Classification report\n",
      "\n",
      "              precision    recall  f1-score   support\n",
      "\n",
      "           0       0.89      0.83      0.86    100136\n",
      "           1       0.84      0.90      0.87    100504\n",
      "\n",
      "    accuracy                           0.86    200640\n",
      "   macro avg       0.86      0.86      0.86    200640\n",
      "weighted avg       0.86      0.86      0.86    200640\n",
      "\n"
     ]
    }
   ],
   "source": [
    "from sklearn.metrics import confusion_matrix,classification_report\n",
    "print(\"\\n Classification report\\n\")\n",
    "print(classification_report(y,y_pred))"
   ]
  },
  {
   "cell_type": "code",
   "execution_count": 24,
   "metadata": {
    "colab": {
     "base_uri": "https://localhost:8080/",
     "height": 321
    },
    "executionInfo": {
     "elapsed": 24,
     "status": "ok",
     "timestamp": 1672905197306,
     "user": {
      "displayName": "Alishba NXB",
      "userId": "11371197343773171612"
     },
     "user_tz": -300
    },
    "id": "9owMhiHMtwd5",
    "outputId": "3dc07986-0298-4705-ca53-396ce4c4f834"
   },
   "outputs": [
    {
     "name": "stdout",
     "output_type": "stream",
     "text": [
      "Confusion matrix\n",
      "\n"
     ]
    },
    {
     "data": {
      "text/plain": [
       "<AxesSubplot:>"
      ]
     },
     "execution_count": 24,
     "metadata": {},
     "output_type": "execute_result"
    },
    {
     "data": {
      "image/png": "[encoded data removed]",
      "text/plain": [
       "<Figure size 640x480 with 2 Axes>"
      ]
     },
     "metadata": {},
     "output_type": "display_data"
    }
   ],
   "source": [
    "cm = confusion_matrix(y,y_pred)\n",
    "print(\"Confusion matrix\\n\")\n",
    "sns.heatmap(cm, annot=True)"
   ]
  },
  {
   "cell_type": "markdown",
   "metadata": {
    "id": "c49A09gNw8vB"
   },
   "source": [
    "**Model Building - Logistic Regression**  "
   ]
  },
  {
   "cell_type": "code",
   "execution_count": 25,
   "metadata": {
    "executionInfo": {
     "elapsed": 7,
     "status": "ok",
     "timestamp": 1672905029505,
     "user": {
      "displayName": "Alishba NXB",
      "userId": "11371197343773171612"
     },
     "user_tz": -300
    },
    "id": "GrdXZlJiw-3E"
   },
   "outputs": [],
   "source": [
    "from sklearn.linear_model import LogisticRegression\n",
    "model = LogisticRegression()"
   ]
  },
  {
   "cell_type": "code",
   "execution_count": 26,
   "metadata": {
    "colab": {
     "base_uri": "https://localhost:8080/"
    },
    "executionInfo": {
     "elapsed": 136853,
     "status": "ok",
     "timestamp": 1672905166351,
     "user": {
      "displayName": "Alishba NXB",
      "userId": "11371197343773171612"
     },
     "user_tz": -300
    },
    "id": "x9vR3eDAxXV_",
    "outputId": "20462e6b-3f3b-4f5c-a9e7-2e67ae082dea"
   },
   "outputs": [
    {
     "data": {
      "text/plain": [
       "LogisticRegression()"
      ]
     },
     "execution_count": 26,
     "metadata": {},
     "output_type": "execute_result"
    }
   ],
   "source": [
    "# Train Logistic Regression\n",
    "model.fit(X_train,y_train)"
   ]
  },
  {
   "cell_type": "markdown",
   "metadata": {
    "id": "c6r67YFXyMPz"
   },
   "source": [
    "**Model Evaluation - Logistic Regression**"
   ]
  },
  {
   "cell_type": "code",
   "execution_count": 27,
   "metadata": {
    "executionInfo": {
     "elapsed": 28,
     "status": "ok",
     "timestamp": 1672905166353,
     "user": {
      "displayName": "Alishba NXB",
      "userId": "11371197343773171612"
     },
     "user_tz": -300
    },
    "id": "fTdP6XCtyIBB"
   },
   "outputs": [],
   "source": [
    "from sklearn.metrics import confusion_matrix,classification_report,accuracy_score"
   ]
  },
  {
   "cell_type": "code",
   "execution_count": 28,
   "metadata": {
    "colab": {
     "base_uri": "https://localhost:8080/"
    },
    "executionInfo": {
     "elapsed": 21340,
     "status": "ok",
     "timestamp": 1672905187666,
     "user": {
      "displayName": "Alishba NXB",
      "userId": "11371197343773171612"
     },
     "user_tz": -300
    },
    "id": "P59NK_US1H7l",
    "outputId": "69bc4391-b054-4b8b-9117-2ddd5044f535"
   },
   "outputs": [
    {
     "name": "stdout",
     "output_type": "stream",
     "text": [
      "Train accuracy:  0.5683935765275826\n"
     ]
    }
   ],
   "source": [
    "#Train Accuracy\n",
    "X_train_predict = model.predict(X_train)\n",
    "training_data_accuracy = accuracy_score(X_train_predict, y_train)\n",
    "print(\"Train accuracy: \", training_data_accuracy)"
   ]
  },
  {
   "cell_type": "code",
   "execution_count": 29,
   "metadata": {
    "colab": {
     "base_uri": "https://localhost:8080/"
    },
    "executionInfo": {
     "elapsed": 9030,
     "status": "ok",
     "timestamp": 1672905196667,
     "user": {
      "displayName": "Alishba NXB",
      "userId": "11371197343773171612"
     },
     "user_tz": -300
    },
    "id": "sh1Ne3BKx-bU",
    "outputId": "042e030f-3c3b-4ac4-d0e4-96db843e1d3f"
   },
   "outputs": [
    {
     "name": "stdout",
     "output_type": "stream",
     "text": [
      "Test Accuracy: 0.5685705741626794\n"
     ]
    }
   ],
   "source": [
    "# Test Accuracy\n",
    "y_pred = model.predict(X_test)\n",
    "y=y_test\n",
    "print(\"Test Accuracy:\",accuracy_score(y, y_pred))"
   ]
  },
  {
   "cell_type": "code",
   "execution_count": 30,
   "metadata": {
    "colab": {
     "base_uri": "https://localhost:8080/"
    },
    "executionInfo": {
     "elapsed": 669,
     "status": "ok",
     "timestamp": 1672905197305,
     "user": {
      "displayName": "Alishba NXB",
      "userId": "11371197343773171612"
     },
     "user_tz": -300
    },
    "id": "TIzIt7TgxDX8",
    "outputId": "09c1912d-683e-4f75-80bc-bb73fd98cb60"
   },
   "outputs": [
    {
     "name": "stdout",
     "output_type": "stream",
     "text": [
      "\n",
      " Classification report\n",
      "\n",
      "              precision    recall  f1-score   support\n",
      "\n",
      "           0       0.56      0.66      0.60    100136\n",
      "           1       0.58      0.48      0.53    100504\n",
      "\n",
      "    accuracy                           0.57    200640\n",
      "   macro avg       0.57      0.57      0.57    200640\n",
      "weighted avg       0.57      0.57      0.57    200640\n",
      "\n"
     ]
    }
   ],
   "source": [
    "from sklearn.metrics import confusion_matrix,classification_report\n",
    "print(\"\\n Classification report\\n\")\n",
    "print(classification_report(y,y_pred))"
   ]
  },
  {
   "cell_type": "code",
   "execution_count": 31,
   "metadata": {
    "colab": {
     "base_uri": "https://localhost:8080/",
     "height": 321
    },
    "executionInfo": {
     "elapsed": 24,
     "status": "ok",
     "timestamp": 1672905197306,
     "user": {
      "displayName": "Alishba NXB",
      "userId": "11371197343773171612"
     },
     "user_tz": -300
    },
    "id": "9owMhiHMtwd5",
    "outputId": "3dc07986-0298-4705-ca53-396ce4c4f834"
   },
   "outputs": [
    {
     "name": "stdout",
     "output_type": "stream",
     "text": [
      "Confusion matrix\n",
      "\n"
     ]
    },
    {
     "data": {
      "text/plain": [
       "<AxesSubplot:>"
      ]
     },
     "execution_count": 31,
     "metadata": {},
     "output_type": "execute_result"
    },
    {
     "data": {
      "image/png": "[encoded data removed]",
      "text/plain": [
       "<Figure size 640x480 with 2 Axes>"
      ]
     },
     "metadata": {},
     "output_type": "display_data"
    }
   ],
   "source": [
    "cm = confusion_matrix(y,y_pred)\n",
    "print(\"Confusion matrix\\n\")\n",
    "sns.heatmap(cm, annot=True)"
   ]
  },
  {
   "cell_type": "markdown",
   "metadata": {
    "id": "c49A09gNw8vB"
   },
   "source": [
    "**Model Building - XGBoost**  "
   ]
  },
  {
   "cell_type": "code",
   "execution_count": 32,
   "metadata": {
    "executionInfo": {
     "elapsed": 7,
     "status": "ok",
     "timestamp": 1672905029505,
     "user": {
      "displayName": "Alishba NXB",
      "userId": "11371197343773171612"
     },
     "user_tz": -300
    },
    "id": "GrdXZlJiw-3E"
   },
   "outputs": [],
   "source": [
    "import xgboost\n",
    "from xgboost import XGBClassifier\n",
    "model = XGBClassifier()"
   ]
  },
  {
   "cell_type": "code",
   "execution_count": 33,
   "metadata": {
    "colab": {
     "base_uri": "https://localhost:8080/"
    },
    "executionInfo": {
     "elapsed": 136853,
     "status": "ok",
     "timestamp": 1672905166351,
     "user": {
      "displayName": "Alishba NXB",
      "userId": "11371197343773171612"
     },
     "user_tz": -300
    },
    "id": "x9vR3eDAxXV_",
    "outputId": "20462e6b-3f3b-4f5c-a9e7-2e67ae082dea"
   },
   "outputs": [
    {
     "data": {
      "text/plain": [
       "XGBClassifier(base_score=None, booster=None, callbacks=None,\n",
       "              colsample_bylevel=None, colsample_bynode=None,\n",
       "              colsample_bytree=None, early_stopping_rounds=None,\n",
       "              enable_categorical=False, eval_metric=None, feature_types=None,\n",
       "              gamma=None, gpu_id=None, grow_policy=None, importance_type=None,\n",
       "              interaction_constraints=None, learning_rate=None, max_bin=None,\n",
       "              max_cat_threshold=None, max_cat_to_onehot=None,\n",
       "              max_delta_step=None, max_depth=None, max_leaves=None,\n",
       "              min_child_weight=None, missing=nan, monotone_constraints=None,\n",
       "              n_estimators=100, n_jobs=None, num_parallel_tree=None,\n",
       "              predictor=None, random_state=None, ...)"
      ]
     },
     "execution_count": 33,
     "metadata": {},
     "output_type": "execute_result"
    }
   ],
   "source": [
    "# Train XGBoost\n",
    "model.fit(X_train,y_train)"
   ]
  },
  {
   "cell_type": "markdown",
   "metadata": {
    "id": "c6r67YFXyMPz"
   },
   "source": [
    "**Model Evaluation - XGBoost**"
   ]
  },
  {
   "cell_type": "code",
   "execution_count": 34,
   "metadata": {
    "executionInfo": {
     "elapsed": 28,
     "status": "ok",
     "timestamp": 1672905166353,
     "user": {
      "displayName": "Alishba NXB",
      "userId": "11371197343773171612"
     },
     "user_tz": -300
    },
    "id": "fTdP6XCtyIBB"
   },
   "outputs": [],
   "source": [
    "from sklearn.metrics import confusion_matrix,classification_report,accuracy_score"
   ]
  },
  {
   "cell_type": "code",
   "execution_count": 35,
   "metadata": {
    "colab": {
     "base_uri": "https://localhost:8080/"
    },
    "executionInfo": {
     "elapsed": 21340,
     "status": "ok",
     "timestamp": 1672905187666,
     "user": {
      "displayName": "Alishba NXB",
      "userId": "11371197343773171612"
     },
     "user_tz": -300
    },
    "id": "P59NK_US1H7l",
    "outputId": "69bc4391-b054-4b8b-9117-2ddd5044f535"
   },
   "outputs": [
    {
     "name": "stdout",
     "output_type": "stream",
     "text": [
      "Train accuracy:  0.8447041383464556\n"
     ]
    }
   ],
   "source": [
    "#Train Accuracy\n",
    "X_train_predict = model.predict(X_train)\n",
    "training_data_accuracy = accuracy_score(X_train_predict, y_train)\n",
    "print(\"Train accuracy: \", training_data_accuracy)"
   ]
  },
  {
   "cell_type": "code",
   "execution_count": 36,
   "metadata": {
    "colab": {
     "base_uri": "https://localhost:8080/"
    },
    "executionInfo": {
     "elapsed": 9030,
     "status": "ok",
     "timestamp": 1672905196667,
     "user": {
      "displayName": "Alishba NXB",
      "userId": "11371197343773171612"
     },
     "user_tz": -300
    },
    "id": "sh1Ne3BKx-bU",
    "outputId": "042e030f-3c3b-4ac4-d0e4-96db843e1d3f"
   },
   "outputs": [
    {
     "name": "stdout",
     "output_type": "stream",
     "text": [
      "Test Accuracy: 0.8423295454545454\n"
     ]
    }
   ],
   "source": [
    "# Test Accuracy\n",
    "y_pred = model.predict(X_test)\n",
    "y=y_test\n",
    "print(\"Test Accuracy:\",accuracy_score(y, y_pred))"
   ]
  },
  {
   "cell_type": "code",
   "execution_count": 37,
   "metadata": {
    "colab": {
     "base_uri": "https://localhost:8080/"
    },
    "executionInfo": {
     "elapsed": 669,
     "status": "ok",
     "timestamp": 1672905197305,
     "user": {
      "displayName": "Alishba NXB",
      "userId": "11371197343773171612"
     },
     "user_tz": -300
    },
    "id": "TIzIt7TgxDX8",
    "outputId": "09c1912d-683e-4f75-80bc-bb73fd98cb60"
   },
   "outputs": [
    {
     "name": "stdout",
     "output_type": "stream",
     "text": [
      "\n",
      " Classification report\n",
      "\n",
      "              precision    recall  f1-score   support\n",
      "\n",
      "           0       0.88      0.80      0.83    100136\n",
      "           1       0.81      0.89      0.85    100504\n",
      "\n",
      "    accuracy                           0.84    200640\n",
      "   macro avg       0.85      0.84      0.84    200640\n",
      "weighted avg       0.85      0.84      0.84    200640\n",
      "\n"
     ]
    }
   ],
   "source": [
    "from sklearn.metrics import confusion_matrix,classification_report\n",
    "print(\"\\n Classification report\\n\")\n",
    "print(classification_report(y,y_pred))"
   ]
  },
  {
   "cell_type": "code",
   "execution_count": 38,
   "metadata": {
    "colab": {
     "base_uri": "https://localhost:8080/",
     "height": 321
    },
    "executionInfo": {
     "elapsed": 24,
     "status": "ok",
     "timestamp": 1672905197306,
     "user": {
      "displayName": "Alishba NXB",
      "userId": "11371197343773171612"
     },
     "user_tz": -300
    },
    "id": "9owMhiHMtwd5",
    "outputId": "3dc07986-0298-4705-ca53-396ce4c4f834"
   },
   "outputs": [
    {
     "name": "stdout",
     "output_type": "stream",
     "text": [
      "Confusion matrix\n",
      "\n"
     ]
    },
    {
     "data": {
      "text/plain": [
       "<AxesSubplot:>"
      ]
     },
     "execution_count": 38,
     "metadata": {},
     "output_type": "execute_result"
    },
    {
     "data": {
      "image/png": "[encoded data removed]",
      "text/plain": [
       "<Figure size 640x480 with 2 Axes>"
      ]
     },
     "metadata": {},
     "output_type": "display_data"
    }
   ],
   "source": [
    "cm = confusion_matrix(y,y_pred)\n",
    "print(\"Confusion matrix\\n\")\n",
    "sns.heatmap(cm, annot=True)"
   ]
  },
  {
   "cell_type": "code",
   "execution_count": null,
   "metadata": {},
   "outputs": [],
   "source": []
  },
  {
   "cell_type": "code",
   "execution_count": null,
   "metadata": {},
   "outputs": [],
   "source": []
  },
  {
   "cell_type": "code",
   "execution_count": null,
   "metadata": {},
   "outputs": [],
   "source": []
  },
  {
   "cell_type": "code",
   "execution_count": null,
   "metadata": {},
   "outputs": [],
   "source": []
  }
 ],
 "metadata": {
  "colab": {
   "authorship_tag": "ABX9TyMuiDlw5zPwFWCj3PmK6jk9",
   "mount_file_id": "1bD-TfALVzYn5bhIGlVI1OFjW09WgUCf7",
   "provenance": [
    {
     "file_id": "1OO1yuZEkq8-gK5ifVMEjo1KqjHGHdTSG",
     "timestamp": 1672838216380
    },
    {
     "file_id": "1ivcjIyG6794Iw92lg7Ekx8k5AbbbI8_L",
     "timestamp": 1638796704355
    },
    {
     "file_id": "1_xMf8L6MpPv4FJNSLxDeLlIWF2HItvGn",
     "timestamp": 1638794330679
    }
   ]
  },
  "kernelspec": {
   "display_name": "Python 3 (ipykernel)",
   "language": "python",
   "name": "python3"
  },
  "language_info": {
   "codemirror_mode": {
    "name": "ipython",
    "version": 3
   },
   "file_extension": ".py",
   "mimetype": "text/x-python",
   "name": "python",
   "nbconvert_exporter": "python",
   "pygments_lexer": "ipython3",
   "version": "3.9.13"
  }
 },
 "nbformat": 4,
 "nbformat_minor": 1
}
